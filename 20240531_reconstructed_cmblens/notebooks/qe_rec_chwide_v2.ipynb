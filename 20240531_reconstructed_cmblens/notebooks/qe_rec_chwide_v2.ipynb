{
 "cells": [
  {
   "cell_type": "markdown",
   "id": "f47ed900-4973-4fbf-8826-99ffd78b44ec",
   "metadata": {},
   "source": [
    "Shows how to load the phi maps, compute mean field  and get unbiased power spectra "
   ]
  },
  {
   "cell_type": "code",
   "execution_count": null,
   "id": "220efca2-280e-44d9-9061-9370a5b33900",
   "metadata": {},
   "outputs": [],
   "source": [
    "%load_ext autoreload\n",
    "%autoreload 2"
   ]
  },
  {
   "cell_type": "code",
   "execution_count": null,
   "id": "ec5070de-9e84-416a-854d-fced86ec5170",
   "metadata": {
    "tags": []
   },
   "outputs": [],
   "source": [
    "import os\n",
    "import sys\n",
    "import matplotlib as mpl\n",
    "import matplotlib.pyplot as pl\n",
    "import numpy as np\n",
    "import healpy as hp \n",
    "from plancklens import utils\n",
    "from plancklens import qresp\n",
    "from scipy.interpolate import UnivariateSpline as spl\n",
    "from os.path import join as opj \n",
    "from lensitbiases import n1_fft\n",
    "from lenspec import iterbiasesN0N1"
   ]
  },
  {
   "cell_type": "code",
   "execution_count": null,
   "id": "fb7f7c9b-9fd0-4e61-b807-485a084759f2",
   "metadata": {
    "tags": []
   },
   "outputs": [],
   "source": [
    "import sys\n",
    "sys.version"
   ]
  },
  {
   "cell_type": "code",
   "execution_count": null,
   "id": "a2c2e839-8057-4858-ae98-bf1e394c4b88",
   "metadata": {
    "tags": []
   },
   "outputs": [],
   "source": [
    "\n",
    "mpl.rcParams['axes.labelsize'] = 20\n",
    "mpl.rcParams['font.size'] = 20\n",
    "# mpl.rcParams['figure.figsize'] = 6.4, 4.8\n",
    "mpl.rcParams['figure.figsize'] = 8.5, 5.5\n",
    "\n",
    "mpl.rcParams['mathtext.fontset'] = 'cm'\n",
    "mpl.rcParams['mathtext.rm'] = 'serif'\n",
    "mpl.rc('legend', fontsize=15)\n",
    "mpl.rcParams['errorbar.capsize'] = 4"
   ]
  },
  {
   "cell_type": "code",
   "execution_count": null,
   "id": "aeb54ce5-05c5-41f6-8a65-3dfec42284e3",
   "metadata": {
    "tags": []
   },
   "outputs": [],
   "source": [
    "def w(ell):\n",
    "    return (ell*(ell+1))**2 / 2 / np.pi * 1e7\n",
    "\n",
    "def p2k(lmax):\n",
    "    return 0.5 * np.arange(lmax + 1) * np.arange(1, lmax + 2, dtype=float)"
   ]
  },
  {
   "cell_type": "code",
   "execution_count": null,
   "id": "6f032e1a-1d71-4383-ad36-28f49e9a833a",
   "metadata": {
    "tags": []
   },
   "outputs": [],
   "source": [
    "\n",
    "# Import param file\n",
    "module_path = os.path.abspath(os.path.join('../params'))\n",
    "if module_path not in sys.path:\n",
    "    sys.path.append(module_path)\n",
    "\n",
    "import param_chwide_qe_lminB200_v2 as param_file\n"
   ]
  },
  {
   "cell_type": "code",
   "execution_count": null,
   "id": "2e6e0322-e22b-4c7e-b625-5cf9073a89ab",
   "metadata": {
    "tags": []
   },
   "outputs": [],
   "source": [
    "# Import sims library \n",
    "\n",
    "module_path = os.path.abspath(os.path.join('../../20231018_signal_cmb'))\n",
    "if module_path not in sys.path:\n",
    "    sys.path.append(module_path)\n",
    "    \n",
    "import unlensed_ffp10"
   ]
  },
  {
   "cell_type": "code",
   "execution_count": null,
   "id": "55e34fdb-10b0-4449-bc19-c514bbe1e0d1",
   "metadata": {
    "tags": []
   },
   "outputs": [],
   "source": [
    "qlms_dd = param_file.qlms_dd"
   ]
  },
  {
   "cell_type": "code",
   "execution_count": null,
   "id": "15969368-0f75-467e-af8f-d38600eee649",
   "metadata": {},
   "outputs": [],
   "source": [
    "sims = param_file.sims"
   ]
  },
  {
   "cell_type": "code",
   "execution_count": null,
   "id": "8bacea14-9766-4171-8e3a-c4b414f46dfe",
   "metadata": {
    "tags": []
   },
   "outputs": [],
   "source": [
    "cmb_unl= unlensed_ffp10.cmb_unl_ffp10()"
   ]
  },
  {
   "cell_type": "markdown",
   "id": "2c40db2a-2c6e-490c-9a91-a0af0871aba8",
   "metadata": {},
   "source": [
    "I have computed the fiducial response, as well as the effective response, which is given as the average over the 500 simulations:\n",
    "\n",
    "$$ R_L^{\\rm eff} = \\left< \\frac{C_L^{\\phi^{QE}, \\phi^{in}}}{C_L^{\\phi^{in}, \\phi^{in}} }\\right> $$\n",
    "\n",
    "\n",
    "As shown in the plot below, there is a ~5 percent offset between the fiducial response and the effective response. \n",
    "As I baseline am using the effective normalisation."
   ]
  },
  {
   "cell_type": "code",
   "execution_count": null,
   "id": "a63c4184-e6f6-47e2-9c3d-39aa84ec4209",
   "metadata": {},
   "outputs": [],
   "source": [
    "L, resp_eff = np.loadtxt('/global/cfs/cdirs/cmbs4xlb/v1/lensingrec/chwide_qe_v2/resp_qe_effective.txt').T\n",
    "\n",
    "L, resp_fid = np.loadtxt('/global/cfs/cdirs/cmbs4xlb/v1/lensingrec/chwide_qe_v2/resp_qe.txt').T\n"
   ]
  },
  {
   "cell_type": "code",
   "execution_count": null,
   "id": "308094b3-3abc-4cbc-96a2-c1e85a886b55",
   "metadata": {},
   "outputs": [],
   "source": [
    "lmax = 4096\n",
    "ls = np.arange(10, lmax+1)\n",
    "pl.plot(ls, resp_fid[ls]/resp_eff[ls])\n",
    "\n",
    "pl.axhline(y=1, c='k')\n",
    "pl.xlabel('$L$')\n",
    "pl.ylabel(r'$R^{\\rm fid} / R^{\\rm eff}$')"
   ]
  },
  {
   "cell_type": "markdown",
   "id": "65db7298-b126-4f61-bd1a-7c773ade9c4b",
   "metadata": {},
   "source": [
    "The phi maps I provide are normalised either with the fiducial reponse or with the effective response. \n"
   ]
  },
  {
   "cell_type": "code",
   "execution_count": null,
   "id": "5728be00-d6eb-4d75-a60d-ecf05885a8d6",
   "metadata": {},
   "outputs": [],
   "source": [
    "savedir = '/global/cfs/cdirs/cmbs4xlb/v1/lensingrec'\n",
    "tag = 'chwide_qe_v2'\n",
    "\n",
    "fn = lambda resp, idx: os.path.join(savedir, tag, f'plm_{resp}_p_p_{idx:04}.fits')\n",
    "fn_N0 = lambda resp, idx: os.path.join(savedir, tag, f'Nlzero_semianalytic_{resp}_{idx:04}.txt')"
   ]
  },
  {
   "cell_type": "markdown",
   "id": "c6ae2380-b3d1-4a8f-922d-02279c6fce78",
   "metadata": {},
   "source": [
    "Let us use the first simulation as a mock data map.\n",
    "I also provide the semi-analytical N0, which is realisation dependant."
   ]
  },
  {
   "cell_type": "code",
   "execution_count": null,
   "id": "e6e0d266-5d56-4d03-b6f9-9071d1090a9c",
   "metadata": {},
   "outputs": [],
   "source": [
    "resp = resp_eff\n",
    "r = 'reff'\n",
    "# resp = resp_fid\n",
    "# r = 'rfid' \n",
    "idx = 0 \n",
    "plm00 = hp.read_alm(fn(r, idx))\n",
    "N0 = np.loadtxt(fn_N0(r, idx)).T[1]\n",
    "\n",
    "plm_in = utils.alm_copy(cmb_unl.get_sim_plm(idx), lmax=hp.Alm.getlmax(np.size(plm00)))\n"
   ]
  },
  {
   "cell_type": "markdown",
   "id": "463f171d-9422-4d2a-850a-208484f5491c",
   "metadata": {},
   "source": [
    "\n",
    "For unbiased lensing map, one needs to subtract the mean field. This mean field can be estimate as an average from a subset of the simulations. \n"
   ]
  },
  {
   "cell_type": "code",
   "execution_count": null,
   "id": "17f3bdf1-ee56-47f4-9c3c-760e0f245b4a",
   "metadata": {},
   "outputs": [],
   "source": [
    "# Mean field estimate\n",
    "mcsims = np.arange(100, 200)\n",
    "plm_mf1 = np.zeros_like(plm00)\n",
    "plm_mf2 = np.zeros_like(plm00)\n",
    "\n",
    "for idx in mcsims[::2]:\n",
    "    print(idx)\n",
    "    plm_mf1+= hp.read_alm(fn(r, idx))\n",
    "plm_mf1 /= np.size(mcsims[::2])\n",
    "\n",
    "for idx in mcsims[1::2]:\n",
    "    print(idx)\n",
    "    plm_mf2+= hp.read_alm(fn(r, idx))\n",
    "plm_mf2 /= np.size(mcsims[::2])\n"
   ]
  },
  {
   "cell_type": "markdown",
   "id": "f100e1e9-bf41-420c-9c92-5874d7f439ee",
   "metadata": {},
   "source": [
    "We estimate here the N1 bias "
   ]
  },
  {
   "cell_type": "code",
   "execution_count": null,
   "id": "ea216689-a3ec-4931-b5e2-7e3c477d3737",
   "metadata": {},
   "outputs": [],
   "source": [
    "k = 'p_p'\n",
    "\n",
    "cls_noise_fid = {\n",
    "    'tt': (param_file.nlev_t / 180 / 60 * np.pi) ** 2 * utils.cli(param_file.transf_tlm ** 2),\n",
    "    'ee': (param_file.nlev_p / 180 / 60 * np.pi) ** 2 * utils.cli(param_file.transf_elm ** 2),\n",
    "    'bb': (param_file.nlev_p / 180 / 60 * np.pi) ** 2 * utils.cli(param_file.transf_blm ** 2),\n",
    "}\n",
    "\n",
    "fals, dat_cls, cls_w, cls_f = iterbiasesN0N1.get_fals(k, param_file.cls_weight, param_file.cls_grad, cls_noise_fid, cls_noise_fid, lmin_ivf=param_file.lmin_elm, lmax_ivf=param_file.lmax_ivf)\n"
   ]
  },
  {
   "cell_type": "code",
   "execution_count": null,
   "id": "c10a15bf-5bec-44a2-982b-15187a7d9bbc",
   "metadata": {},
   "outputs": [],
   "source": [
    "lmax_qlm = 4000\n",
    "n1lib = n1_fft.n1_fft(fals, cls_w, cls_f, np.copy(param_file.cls_unl['pp']), lminbox=50, lmaxbox=5000, k2l=None)\n",
    "n1_Ls = np.arange(50, (lmax_qlm // 50) * 50  + 50, 50)\n",
    "\n",
    "n1 = np.array([n1lib.get_n1(k, L, do_n1mat=False) for L in n1_Ls])\n",
    "N1 = spl(n1_Ls, n1_Ls ** 2 * (n1_Ls * 1. + 1) ** 2 * n1 / resp[n1_Ls] ** 2, k=2, s=0, ext='zeros')(np.arange(lmax_qlm+1))\n",
    "N1 *= utils.cli(np.arange(lmax_qlm + 1) ** 2 * np.arange(1, lmax_qlm + 2, dtype=float) ** 2)"
   ]
  },
  {
   "cell_type": "code",
   "execution_count": null,
   "id": "cbecdfdc-f221-46cb-9dd1-a7aa69639391",
   "metadata": {},
   "outputs": [],
   "source": [
    "lmax = 4000\n",
    "ls = np.arange(10, lmax+1)\n",
    "fsky = np.mean(param_file.ivfs.get_fmask())\n",
    "\n",
    "\n",
    "pl.plot(ls, w(ls)*hp.alm2cl(plm00, plm_in, lmax_out=lmax)[ls]/fsky, label=r'$C_L^{\\hat \\phi, \\phi^{\\rm in}}$')\n",
    "pl.plot(ls, w(ls)*hp.alm2cl(plm00, plm00, lmax_out=lmax)[ls]/fsky, label=r'$C_L^{\\hat \\phi, \\hat \\phi}$')\n",
    "pl.plot(ls, w(ls)*hp.alm2cl(plm00-plm_mf1, plm00-plm_mf2, lmax_out=lmax)[ls]/fsky, label=r'$C_L^{\\hat \\phi -\\phi^{\\rm MF, 1}, \\hat \\phi-\\phi^{\\rm MF, 2}}$')\n",
    "pl.plot(ls, w(ls)*(hp.alm2cl(plm00-plm_mf1, plm00-plm_mf2, lmax_out=lmax)[ls]/fsky - N0[ls] - N1[ls]), label=r'$C_L^{\\hat \\phi -\\phi^{\\rm MF, 1}, \\hat \\phi-\\phi^{\\rm MF, 2}} - N_L^0 - N_L^1 $')\n",
    "\n",
    "\n",
    "# pl.plot(ls, w(ls)*hp.alm2cl(plm_mf1, plm_mf2, lmax_out=lmax)[ls]/fsky, label=r'$C_L^{\\phi^{\\rm MF, 1},\\phi^{\\rm MF, 2}}$')\n",
    "\n",
    "\n",
    "pl.plot(ls, w(ls)*(N0[ls] + N1[ls]), label='$N_L^0 + N_L^1$')\n",
    "pl.plot(ls, w(ls)*param_file.cls_unl['pp'][ls], c='k', label=r\"$C_L^{\\phi, \\phi, \\rm fid}$\")\n",
    "\n",
    "\n",
    "pl.loglog()\n",
    "\n",
    "pl.legend(fontsize=15, ncol=2, loc=3)\n",
    "\n",
    "pl.xlabel(r'$L$')\n",
    "pl.ylabel(r'$ 10^7 L(L+1)^2 / 2\\pi C_L^{\\phi\\phi}$')"
   ]
  },
  {
   "cell_type": "code",
   "execution_count": null,
   "id": "a514a43a-2177-4815-b382-b4efe254597f",
   "metadata": {},
   "outputs": [],
   "source": [
    "# Lensing power spectrum residual\n",
    "lmax = 2000\n",
    "ls = np.arange(10, lmax+1)\n",
    "\n",
    "cov = utils.cli(2*np.arange(lmax+1)*fsky) * (param_file.cls_unl['pp'][:lmax+1]+N0[:lmax+1]+N1[:lmax+1])**2\n",
    "\n",
    "# pl.plot(ls, (hp.alm2cl(plm00, plm00, lmax_out=lmax)[ls]/fsky - N0[ls]-N1[ls])*utils.cli(param_file.cls_unl['pp'][ls])-1, label=r'$C_L^{\\hat \\phi, \\hat \\phi} - {\\hat N}^0_L - N^1_L $')\n",
    "\n",
    "pl.plot(ls, (hp.alm2cl(plm00-plm_mf1, plm00-plm_mf2, lmax_out=lmax)[ls]/fsky - N0[ls]-N1[ls])*utils.cli(param_file.cls_unl['pp'][ls])-1, label=r'$C_L^{\\hat \\phi -\\phi^{\\rm MF, 1}, \\hat \\phi-\\phi^{\\rm MF, 2}} - {\\hat N}^0_L - N^1_L $')\n",
    "\n",
    "pl.plot(ls, (hp.alm2cl(plm00, plm_in, lmax_out=lmax)[ls]/fsky )*utils.cli(param_file.cls_unl['pp'][ls])-1, label=r'$C_L^{\\hat \\phi, \\phi^{\\rm in}} $')\n",
    "\n",
    "pl.plot(ls, np.sqrt(cov)[ls]*utils.cli(param_file.cls_unl['pp'][ls]), c='k')\n",
    "pl.plot(ls, -np.sqrt(cov)[ls]*utils.cli(param_file.cls_unl['pp'][ls]), c='k')\n",
    "\n",
    "pl.axhline(y=0, c='k', ls='--')\n",
    "\n",
    "pl.xlabel('$L$')\n",
    "pl.ylabel(r'$\\Delta C_L^{\\hat \\phi, \\hat \\phi} / C_L^{\\phi\\phi, \\rm fid}$')\n",
    "pl.legend()"
   ]
  },
  {
   "cell_type": "code",
   "execution_count": null,
   "id": "0a5c21a9-f2af-4f6a-a4f9-1939d277cd14",
   "metadata": {},
   "outputs": [],
   "source": []
  }
 ],
 "metadata": {
  "kernelspec": {
   "display_name": "scarf37gnu",
   "language": "python",
   "name": "scarf37gnu"
  },
  "language_info": {
   "codemirror_mode": {
    "name": "ipython",
    "version": 3
   },
   "file_extension": ".py",
   "mimetype": "text/x-python",
   "name": "python",
   "nbconvert_exporter": "python",
   "pygments_lexer": "ipython3",
   "version": "3.7.12"
  }
 },
 "nbformat": 4,
 "nbformat_minor": 5
}
